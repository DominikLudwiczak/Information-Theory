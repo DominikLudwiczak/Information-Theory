{
 "cells": [
  {
   "cell_type": "code",
   "execution_count": 111,
   "metadata": {},
   "outputs": [],
   "source": [
    "class LZW:\n",
    "    def encode(self, text):\n",
    "        dictSize = 256\n",
    "        dictionary = {}\n",
    "        for i in range(dictSize):\n",
    "            dictionary[chr(i)] = i\n",
    "        foundChars = \"\"\n",
    "        result = []\n",
    "        for character in text:\n",
    "            chrsToAdd = foundChars + character\n",
    "            if chrsToAdd in dictionary.keys():\n",
    "                foundChars = chrsToAdd\n",
    "            else:\n",
    "                result.append(dictionary[foundChars])\n",
    "                dictionary[chrsToAdd] = dictSize\n",
    "                dictSize += 1\n",
    "                foundChars = character\n",
    "\n",
    "        if foundChars != \"\":\n",
    "            result.append(dictionary[foundChars])\n",
    "        return (result, dictionary)\n",
    "\n",
    "\n",
    "    def decode(self, encoded: list) -> str:\n",
    "        dictSize = 256\n",
    "        dictionary = {}\n",
    "        for i in range(dictSize):\n",
    "            dictionary[i] = chr(i)\n",
    "        \n",
    "        characters = chr(encoded.pop(0))\n",
    "        result = characters\n",
    "        for code in encoded:\n",
    "            entry = dictionary[code] if code in dictionary else characters + characters[0]\n",
    "            result += entry\n",
    "            dictionary[dictSize] = characters + entry[0]\n",
    "            dictSize += 1\n",
    "            characters = entry\n",
    "        return result"
   ]
  },
  {
   "cell_type": "code",
   "execution_count": 112,
   "metadata": {},
   "outputs": [
    {
     "name": "stdout",
     "output_type": "stream",
     "text": [
      "norm_wiki_sample.txt\n",
      "encoded: [32, 97, 108, 98, 101, 114, 116, 32, 111, 102, 32, 112, 114, 117, 115, 115, 105, 97, 32, 49, 55, 32, 109, 97, 121, 274, 52, 57, 48, 32, 50, 284, 278, 114, 99, 104, 274, 53, 54, 56, 32, 119, 97, 115, 32, 116, 104, 101, 32, 108, 298, 262, 103, 114, 97, 110, 100, 277, 306, 260, 263, 265, 301, 303, 116, 101, 117, 116, 111, 110, 105, 99, 32, 107, 325, 103, 104, 116, 299, 119, 104, 111, 256]\n",
      "encoded with values for codes:  ->32 a->97 l->108 b->98 e->101 r->114 t->116  ->32 o->111 f->102  ->32 p->112 r->114 u->117 s->115 s->115 i->105 a->97  ->32 1->49 7->55  ->32 m->109 a->97 y->121  1->274 4->52 9->57 0->48  ->32 2->50 0 ->284 ma->278 r->114 c->99 h->104  1->274 5->53 6->54 8->56  ->32 w->119 a->97 s->115  ->32 t->116 h->104 e->101  ->32 l->108 as->298 t ->262 g->103 r->114 a->97 n->110 d->100  m->277 ast->306 er->260  o->263 f ->265 th->301 e ->303 t->116 e->101 u->117 t->116 o->111 n->110 i->105 c->99  ->32 k->107 ni->325 g->103 h->104 t->116 s ->299 w->119 h->104 o->111  a->256 \n",
      "decoded:  albert of prussia 17 may 1490 20 march 1568 was the last grand master of the teutonic knights who a\n",
      "----------------\n",
      "wiki_sample.txt\n",
      "encoded: [64, 64, 49, 53, 49, 52, 32, 65, 108, 98, 101, 114, 116, 32, 111, 102, 32, 80, 114, 117, 115, 115, 105, 97, 32, 40, 32, 49, 55, 32, 77, 97, 121, 282, 52, 57, 48, 32, 50, 292, 286, 114, 99, 104, 282, 53, 54, 56, 32, 41, 32, 119, 97, 115, 32, 116, 104, 101, 32, 108, 308, 268, 71, 114, 97, 110, 100, 285, 316, 266, 269, 271, 311, 313, 84, 101, 117, 116, 111, 110, 105, 99, 32, 75, 335]\n",
      "encoded with values for codes: @->64 @->64 1->49 5->53 1->49 4->52  ->32 A->65 l->108 b->98 e->101 r->114 t->116  ->32 o->111 f->102  ->32 P->80 r->114 u->117 s->115 s->115 i->105 a->97  ->32 (->40  ->32 1->49 7->55  ->32 M->77 a->97 y->121  1->282 4->52 9->57 0->48  ->32 2->50 0 ->292 Ma->286 r->114 c->99 h->104  1->282 5->53 6->54 8->56  ->32 )->41  ->32 w->119 a->97 s->115  ->32 t->116 h->104 e->101  ->32 l->108 as->308 t ->268 G->71 r->114 a->97 n->110 d->100  M->285 ast->316 er->266  o->269 f ->271 th->311 e ->313 T->84 e->101 u->117 t->116 o->111 n->110 i->105 c->99  ->32 K->75 ni->335 \n",
      "decoded: @@1514 Albert of Prussia ( 17 May 1490 20 March 1568 ) was the last Grand Master of the Teutonic Kni\n",
      "----------------\n"
     ]
    }
   ],
   "source": [
    "files = ['norm_wiki_sample.txt', 'wiki_sample.txt']\n",
    "lzw = LZW()\n",
    "for file in files:\n",
    "    print(file)\n",
    "    with open(file) as f:\n",
    "        text = f.read()[:100]\n",
    "        encoded, dictionary = lzw.encode(text)\n",
    "        dictionary = {v: k for k, v in dictionary.items()}\n",
    "        print(\"encoded:\", encoded)\n",
    "        print(\"encoded with values for codes:\", end=\" \")\n",
    "        for code in encoded:\n",
    "            print(dictionary[code] + \"->\" + str(code), end=\" \")\n",
    "        print()\n",
    "        decoded = lzw.decode(encoded)\n",
    "        print(\"decoded:\", decoded)\n",
    "    print('----------------')"
   ]
  }
 ],
 "metadata": {
  "kernelspec": {
   "display_name": "Python 3",
   "language": "python",
   "name": "python3"
  },
  "language_info": {
   "codemirror_mode": {
    "name": "ipython",
    "version": 3
   },
   "file_extension": ".py",
   "mimetype": "text/x-python",
   "name": "python",
   "nbconvert_exporter": "python",
   "pygments_lexer": "ipython3",
   "version": "3.9.13"
  },
  "orig_nbformat": 4,
  "vscode": {
   "interpreter": {
    "hash": "aee8b7b246df8f9039afb4144a1f6fd8d2ca17a180786b69acc140d282b71a49"
   }
  }
 },
 "nbformat": 4,
 "nbformat_minor": 2
}
